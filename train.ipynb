{
 "cells": [
  {
   "cell_type": "code",
   "execution_count": 1,
   "metadata": {},
   "outputs": [
    {
     "name": "stderr",
     "output_type": "stream",
     "text": [
      "/tmp/ipykernel_121047/1425855459.py:2: DeprecationWarning: \n",
      "Pyarrow will become a required dependency of pandas in the next major release of pandas (pandas 3.0),\n",
      "(to allow more performant data types, such as the Arrow string type, and better interoperability with other libraries)\n",
      "but was not found to be installed on your system.\n",
      "If this would cause problems for you,\n",
      "please provide us feedback at https://github.com/pandas-dev/pandas/issues/54466\n",
      "        \n",
      "  import pandas as pd\n",
      "2024-03-13 23:10:57.362436: E external/local_xla/xla/stream_executor/cuda/cuda_dnn.cc:9261] Unable to register cuDNN factory: Attempting to register factory for plugin cuDNN when one has already been registered\n",
      "2024-03-13 23:10:57.362486: E external/local_xla/xla/stream_executor/cuda/cuda_fft.cc:607] Unable to register cuFFT factory: Attempting to register factory for plugin cuFFT when one has already been registered\n",
      "2024-03-13 23:10:57.363170: E external/local_xla/xla/stream_executor/cuda/cuda_blas.cc:1515] Unable to register cuBLAS factory: Attempting to register factory for plugin cuBLAS when one has already been registered\n",
      "2024-03-13 23:10:57.367224: I tensorflow/core/platform/cpu_feature_guard.cc:182] This TensorFlow binary is optimized to use available CPU instructions in performance-critical operations.\n",
      "To enable the following instructions: AVX2 FMA, in other operations, rebuild TensorFlow with the appropriate compiler flags.\n",
      "2024-03-13 23:10:58.010343: W tensorflow/compiler/tf2tensorrt/utils/py_utils.cc:38] TF-TRT Warning: Could not find TensorRT\n"
     ]
    }
   ],
   "source": [
    "import numpy as np\n",
    "import pandas as pd\n",
    "import tensorflow as tf\n",
    "from tensorflow import keras\n",
    "from sklearn.model_selection import train_test_split\n",
    "from sklearn.preprocessing import StandardScaler"
   ]
  },
  {
   "cell_type": "code",
   "execution_count": 2,
   "metadata": {},
   "outputs": [],
   "source": [
    "game_threshold = 1 # minimum number of games to be in the dataset\n",
    "test_size = 0.2 # % of the dataset is used for testing\n",
    "ModelHasBot = True #  if True, the bot is considered as a player - to consider bot statistics in games 2vs3 or 3vs4\n",
    "timeStart ='' #'2023-03-01' # start date of the dataset\n",
    "present_players = ['Вадим', 'Ваня', 'Гриша', 'Данил', 'Ден', 'Джун','Сеньор','Юран']\n",
    "\n",
    "# 'Вадим', 'Ваня', 'Гриша', 'Данил', 'Ден', 'Джун', 'Миша', 'Ондрей', 'Савва', 'Сеньор', 'Юран'\n"
   ]
  },
  {
   "cell_type": "markdown",
   "metadata": {},
   "source": [
    "# Data preprocessing"
   ]
  },
  {
   "cell_type": "code",
   "execution_count": 3,
   "metadata": {},
   "outputs": [],
   "source": [
    "dataset = pd.read_csv('data.csv') \n",
    "columnsPlayers = [\"Player1\",\"Player2\",\"Player3\",\"Player4\",\"Player5\",\"Player6\",\"Player7\",\"Player8\"]\n",
    "columnsTeam1 = [\"Player1\",\"Player2\",\"Player3\",\"Player4\"]\n",
    "columnsTeam2 = [\"Player5\",\"Player6\",\"Player7\",\"Player8\"]"
   ]
  },
  {
   "cell_type": "code",
   "execution_count": 4,
   "metadata": {},
   "outputs": [
    {
     "data": {
      "text/html": [
       "<div>\n",
       "<style scoped>\n",
       "    .dataframe tbody tr th:only-of-type {\n",
       "        vertical-align: middle;\n",
       "    }\n",
       "\n",
       "    .dataframe tbody tr th {\n",
       "        vertical-align: top;\n",
       "    }\n",
       "\n",
       "    .dataframe thead th {\n",
       "        text-align: right;\n",
       "    }\n",
       "</style>\n",
       "<table border=\"1\" class=\"dataframe\">\n",
       "  <thead>\n",
       "    <tr style=\"text-align: right;\">\n",
       "      <th></th>\n",
       "      <th>Date</th>\n",
       "      <th>Map</th>\n",
       "      <th>Player1</th>\n",
       "      <th>Player2</th>\n",
       "      <th>Player3</th>\n",
       "      <th>Player4</th>\n",
       "      <th>Player5</th>\n",
       "      <th>Player6</th>\n",
       "      <th>Player7</th>\n",
       "      <th>Player8</th>\n",
       "    </tr>\n",
       "  </thead>\n",
       "  <tbody>\n",
       "    <tr>\n",
       "      <th>0</th>\n",
       "      <td>2024-03-09</td>\n",
       "      <td>ливень</td>\n",
       "      <td>Ден</td>\n",
       "      <td>Гриша</td>\n",
       "      <td>Ондрей</td>\n",
       "      <td>Юран</td>\n",
       "      <td>Сеньор</td>\n",
       "      <td>Савва</td>\n",
       "      <td>Данил</td>\n",
       "      <td>Бот</td>\n",
       "    </tr>\n",
       "    <tr>\n",
       "      <th>3</th>\n",
       "      <td>2024-03-03</td>\n",
       "      <td>кровавая жатва</td>\n",
       "      <td>Данил</td>\n",
       "      <td>Вадим</td>\n",
       "      <td>Сеньор</td>\n",
       "      <td>Савва</td>\n",
       "      <td>Гриша</td>\n",
       "      <td>Миша</td>\n",
       "      <td>Ден</td>\n",
       "      <td>Бот</td>\n",
       "    </tr>\n",
       "    <tr>\n",
       "      <th>6</th>\n",
       "      <td>2024-03-03</td>\n",
       "      <td>переход</td>\n",
       "      <td>Вадим</td>\n",
       "      <td>Сеньор</td>\n",
       "      <td>Юран</td>\n",
       "      <td>Гриша</td>\n",
       "      <td>Ден</td>\n",
       "      <td>Данил</td>\n",
       "      <td>Савва</td>\n",
       "      <td>Миша</td>\n",
       "    </tr>\n",
       "    <tr>\n",
       "      <th>8</th>\n",
       "      <td>2024-03-02</td>\n",
       "      <td>мрачный карнавал</td>\n",
       "      <td>Данил</td>\n",
       "      <td>Гриша</td>\n",
       "      <td>Сеньор</td>\n",
       "      <td>Савва</td>\n",
       "      <td>Вадим</td>\n",
       "      <td>Миша</td>\n",
       "      <td>Ваня</td>\n",
       "      <td>Бот</td>\n",
       "    </tr>\n",
       "    <tr>\n",
       "      <th>11</th>\n",
       "      <td>2024-02-25</td>\n",
       "      <td>холодный ручей</td>\n",
       "      <td>Ден</td>\n",
       "      <td>Вадим</td>\n",
       "      <td>Гриша</td>\n",
       "      <td>Бот</td>\n",
       "      <td>Юран</td>\n",
       "      <td>Сеньор</td>\n",
       "      <td>Ваня</td>\n",
       "      <td>Бот</td>\n",
       "    </tr>\n",
       "    <tr>\n",
       "      <th>...</th>\n",
       "      <td>...</td>\n",
       "      <td>...</td>\n",
       "      <td>...</td>\n",
       "      <td>...</td>\n",
       "      <td>...</td>\n",
       "      <td>...</td>\n",
       "      <td>...</td>\n",
       "      <td>...</td>\n",
       "      <td>...</td>\n",
       "      <td>...</td>\n",
       "    </tr>\n",
       "    <tr>\n",
       "      <th>227</th>\n",
       "      <td>2022-12-11</td>\n",
       "      <td>похоронный звон</td>\n",
       "      <td>Сеньор</td>\n",
       "      <td>Миша</td>\n",
       "      <td>Гриша</td>\n",
       "      <td>Бот</td>\n",
       "      <td>Вадим</td>\n",
       "      <td>Ден</td>\n",
       "      <td>Ваня</td>\n",
       "      <td>Бот</td>\n",
       "    </tr>\n",
       "    <tr>\n",
       "      <th>229</th>\n",
       "      <td>2022-12-11</td>\n",
       "      <td>кровавая жатва</td>\n",
       "      <td>Ден</td>\n",
       "      <td>Сеньор</td>\n",
       "      <td>Джун</td>\n",
       "      <td>Ваня</td>\n",
       "      <td>Ондрей</td>\n",
       "      <td>Миша</td>\n",
       "      <td>Гриша</td>\n",
       "      <td>Бот</td>\n",
       "    </tr>\n",
       "    <tr>\n",
       "      <th>231</th>\n",
       "      <td>2022-11-27</td>\n",
       "      <td>переход</td>\n",
       "      <td>Дима</td>\n",
       "      <td>Джун</td>\n",
       "      <td>Вадим</td>\n",
       "      <td>Ден</td>\n",
       "      <td>Миша</td>\n",
       "      <td>Данил</td>\n",
       "      <td>Сеньор</td>\n",
       "      <td>Юран</td>\n",
       "    </tr>\n",
       "    <tr>\n",
       "      <th>233</th>\n",
       "      <td>2022-11-03</td>\n",
       "      <td>кровавая жатва</td>\n",
       "      <td>Миша</td>\n",
       "      <td>Ондрей</td>\n",
       "      <td>Данил</td>\n",
       "      <td>Бот</td>\n",
       "      <td>Джун</td>\n",
       "      <td>Вадим</td>\n",
       "      <td>Ден</td>\n",
       "      <td>Бот</td>\n",
       "    </tr>\n",
       "    <tr>\n",
       "      <th>234</th>\n",
       "      <td>2022-10-28</td>\n",
       "      <td>смерть в воздухе</td>\n",
       "      <td>Джун</td>\n",
       "      <td>Сеньор</td>\n",
       "      <td>Ден</td>\n",
       "      <td>Бот</td>\n",
       "      <td>Вадим</td>\n",
       "      <td>Данил</td>\n",
       "      <td>Ондрей</td>\n",
       "      <td>Юран</td>\n",
       "    </tr>\n",
       "  </tbody>\n",
       "</table>\n",
       "<p>122 rows × 10 columns</p>\n",
       "</div>"
      ],
      "text/plain": [
       "          Date               Map Player1 Player2 Player3 Player4 Player5  \\\n",
       "0   2024-03-09            ливень     Ден   Гриша  Ондрей    Юран  Сеньор   \n",
       "3   2024-03-03    кровавая жатва   Данил   Вадим  Сеньор   Савва   Гриша   \n",
       "6   2024-03-03           переход   Вадим  Сеньор    Юран   Гриша     Ден   \n",
       "8   2024-03-02  мрачный карнавал   Данил   Гриша  Сеньор   Савва   Вадим   \n",
       "11  2024-02-25    холодный ручей     Ден   Вадим   Гриша     Бот    Юран   \n",
       "..         ...               ...     ...     ...     ...     ...     ...   \n",
       "227 2022-12-11   похоронный звон  Сеньор    Миша   Гриша     Бот   Вадим   \n",
       "229 2022-12-11    кровавая жатва     Ден  Сеньор    Джун    Ваня  Ондрей   \n",
       "231 2022-11-27           переход    Дима    Джун   Вадим     Ден    Миша   \n",
       "233 2022-11-03    кровавая жатва    Миша  Ондрей   Данил     Бот    Джун   \n",
       "234 2022-10-28  смерть в воздухе    Джун  Сеньор     Ден     Бот   Вадим   \n",
       "\n",
       "    Player6 Player7 Player8  \n",
       "0     Савва   Данил     Бот  \n",
       "3      Миша     Ден     Бот  \n",
       "6     Данил   Савва    Миша  \n",
       "8      Миша    Ваня     Бот  \n",
       "11   Сеньор    Ваня     Бот  \n",
       "..      ...     ...     ...  \n",
       "227     Ден    Ваня     Бот  \n",
       "229    Миша   Гриша     Бот  \n",
       "231   Данил  Сеньор    Юран  \n",
       "233   Вадим     Ден     Бот  \n",
       "234   Данил  Ондрей    Юран  \n",
       "\n",
       "[122 rows x 10 columns]"
      ]
     },
     "execution_count": 4,
     "metadata": {},
     "output_type": "execute_result"
    }
   ],
   "source": [
    "dataset[\"Map\"] = dataset[\"Map\"].str.lower() # convert all maps to lower case\n",
    "dataset['Date'] = pd.to_datetime(dataset['Date'],format='%d.%m.%Y') # convert date to datetime\n",
    "dataset=dataset.drop_duplicates(subset=['Date','Map']) # drop duplicates with same date and map\n",
    "dataset.to_csv('new_data.csv',index=False) # save the new dataset\n",
    "dataset.drop(columns=['link','Recorder','vs'],   inplace=True) # drop columns that are not needed\n",
    "\n",
    "#  drop entries which were played before the start date\n",
    "if timeStart != '':\n",
    "    dataset = dataset[dataset['Date'] >= timeStart]\n",
    "dataset\n"
   ]
  },
  {
   "cell_type": "markdown",
   "metadata": {},
   "source": [
    "### Add column with number of maps in each campaign"
   ]
  },
  {
   "cell_type": "code",
   "execution_count": 5,
   "metadata": {},
   "outputs": [],
   "source": [
    "map_weights = {\n",
    "'ливень':5,\n",
    "'кровавая жатва':5, \n",
    "'переход':3,\n",
    "'мрачный карнавал':5,\n",
    "'холодный ручей':4,\n",
    "'похоронный звон':5,\n",
    "'приход':5,\n",
    "'смерть в воздухе':5,\n",
    "'нет милосердию':5,\n",
    "'вымерший центр':4,\n",
    "'болотная лихорадка':4,\n",
    "'последний рубеж':2,\n",
    "'жертва':3,\n",
    "'роковой полет':5}\n",
    "\n",
    "def map_weight(map):\n",
    "    return map_weights[map]\n",
    "\n",
    "dataset[\"Map_weight\"] = dataset[\"Map\"].apply(map_weight)\n",
    "dataset[\"Map_weight\"] = dataset[\"Map_weight\"]/ dataset[\"Map_weight\"].max()# scale weight"
   ]
  },
  {
   "cell_type": "markdown",
   "metadata": {},
   "source": [
    "#### Unique players and cleaning those with small statistics"
   ]
  },
  {
   "cell_type": "code",
   "execution_count": 6,
   "metadata": {},
   "outputs": [
    {
     "data": {
      "text/plain": [
       "array(['Бот', 'Вадим', 'Ваня', 'Гриша', 'Данил', 'Ден', 'Джун', 'Дима',\n",
       "       'Марина', 'Миша', 'Ондрей', 'Ондрей/Джун', 'Ондрей/Сеньор',\n",
       "       'Савва', 'Сеньор', 'Юран'], dtype=object)"
      ]
     },
     "execution_count": 6,
     "metadata": {},
     "output_type": "execute_result"
    }
   ],
   "source": [
    "# unique players from all 8 columns [\"Player1\",\"Player2\",\"Player3\",\"Player4\",\"Player5\",\"Player6\",\"Player7\",\"Player8\"]\n",
    "players = np.unique(dataset[columnsPlayers].values)\n",
    "players = pd.DataFrame(players, columns=[\"Player\"])\n",
    "# filter players that have played more than 'game_threshold' games\n",
    "players = players[players[\"Player\"].map(dataset[columnsPlayers].stack().value_counts()) >= game_threshold]\n",
    "players = players[\"Player\"].values\n",
    "\n",
    "# remove rows with players not in the list\n",
    "dataset = dataset[dataset[columnsPlayers].isin(players).all(axis=1)]\n",
    "\n",
    "if not ModelHasBot: # remove bot from the list of players\n",
    "    players = players[players != 'Бот']\n",
    "players"
   ]
  },
  {
   "cell_type": "code",
   "execution_count": 7,
   "metadata": {},
   "outputs": [],
   "source": [
    "# randomly assign 1 or 2 to TeamWon column\n",
    "dataset[\"TeamWon\"] = np.random.randint(1, 3, dataset.shape[0]) # 1 or 2"
   ]
  },
  {
   "cell_type": "code",
   "execution_count": 8,
   "metadata": {},
   "outputs": [],
   "source": [
    "# Players from \"Team 1\" are Player1, Player2, Player3, Player4\n",
    "# Players from \"Team 2\" are Player5, Player6, Player7, Player8\n",
    "# TeamWon column is the team that won the game\n",
    "#  assign to player in which team he was\n",
    "for player in players:\n",
    "    dataset[player] = 0\n",
    "    dataset.loc[(dataset['Player1'] == player) | (dataset['Player2'] == player) | (dataset['Player3'] == player) | (dataset['Player4'] == player), player] = 1\n",
    "    dataset.loc[(dataset['Player5'] == player) | (dataset['Player6'] == player) | (dataset['Player7'] == player) | (dataset['Player8'] == player), player] = 2\n",
    "    if player==\"Bot\":\n",
    "        dataset.loc[(dataset['Player4'] == \"Bot\") & (dataset['Player8'] == \"Bot\"), 'Bot'] = 0 # remove bot from statistics of 3 vs 3\n"
   ]
  },
  {
   "cell_type": "code",
   "execution_count": 9,
   "metadata": {},
   "outputs": [],
   "source": [
    "#  add data with swapped players to lower values of absent players\n",
    "swapped = dataset.copy()\n",
    "swapped[columnsTeam1+columnsTeam2] = swapped[columnsTeam2+columnsTeam1]\n",
    "dataset = pd.concat([dataset, swapped])"
   ]
  },
  {
   "cell_type": "markdown",
   "metadata": {},
   "source": [
    "## Train the model"
   ]
  },
  {
   "cell_type": "code",
   "execution_count": 10,
   "metadata": {},
   "outputs": [],
   "source": [
    "# split the dataset into train and test\n",
    "train, test = train_test_split(dataset,  test_size=test_size, random_state=42)\n",
    "\n",
    "# select the columns to predict\n",
    "y_train = train['TeamWon']-1  # 0 or 1\n",
    "y_test = test['TeamWon']-1 # 0 or 1\n",
    "\n",
    "# select the columns to train the model\n",
    "X_train = train[players]\n",
    "w_train = train[\"Map_weight\"]\n",
    "X_test = test[players]\n",
    "w_test = test[\"Map_weight\"]\n",
    "\n",
    "#  scale the data\n",
    "scaler = StandardScaler()\n",
    "X_train = scaler.fit_transform(X_train)\n",
    "X_test = scaler.transform(X_test)"
   ]
  },
  {
   "cell_type": "code",
   "execution_count": 11,
   "metadata": {},
   "outputs": [
    {
     "name": "stderr",
     "output_type": "stream",
     "text": [
      "2024-03-13 23:10:59.018420: I external/local_xla/xla/stream_executor/cuda/cuda_executor.cc:887] could not open file to read NUMA node: /sys/bus/pci/devices/0000:01:00.0/numa_node\n",
      "Your kernel may have been built without NUMA support.\n",
      "2024-03-13 23:10:59.042773: I external/local_xla/xla/stream_executor/cuda/cuda_executor.cc:887] could not open file to read NUMA node: /sys/bus/pci/devices/0000:01:00.0/numa_node\n",
      "Your kernel may have been built without NUMA support.\n",
      "2024-03-13 23:10:59.042831: I external/local_xla/xla/stream_executor/cuda/cuda_executor.cc:887] could not open file to read NUMA node: /sys/bus/pci/devices/0000:01:00.0/numa_node\n",
      "Your kernel may have been built without NUMA support.\n",
      "2024-03-13 23:10:59.046552: I external/local_xla/xla/stream_executor/cuda/cuda_executor.cc:887] could not open file to read NUMA node: /sys/bus/pci/devices/0000:01:00.0/numa_node\n",
      "Your kernel may have been built without NUMA support.\n"
     ]
    },
    {
     "name": "stdout",
     "output_type": "stream",
     "text": [
      "Epoch 1/10\n"
     ]
    },
    {
     "name": "stderr",
     "output_type": "stream",
     "text": [
      "2024-03-13 23:10:59.046661: I external/local_xla/xla/stream_executor/cuda/cuda_executor.cc:887] could not open file to read NUMA node: /sys/bus/pci/devices/0000:01:00.0/numa_node\n",
      "Your kernel may have been built without NUMA support.\n",
      "2024-03-13 23:10:59.046694: I external/local_xla/xla/stream_executor/cuda/cuda_executor.cc:887] could not open file to read NUMA node: /sys/bus/pci/devices/0000:01:00.0/numa_node\n",
      "Your kernel may have been built without NUMA support.\n",
      "2024-03-13 23:10:59.182307: I external/local_xla/xla/stream_executor/cuda/cuda_executor.cc:887] could not open file to read NUMA node: /sys/bus/pci/devices/0000:01:00.0/numa_node\n",
      "Your kernel may have been built without NUMA support.\n",
      "2024-03-13 23:10:59.182374: I external/local_xla/xla/stream_executor/cuda/cuda_executor.cc:887] could not open file to read NUMA node: /sys/bus/pci/devices/0000:01:00.0/numa_node\n",
      "Your kernel may have been built without NUMA support.\n",
      "2024-03-13 23:10:59.182382: I tensorflow/core/common_runtime/gpu/gpu_device.cc:2022] Could not identify NUMA node of platform GPU id 0, defaulting to 0.  Your kernel may not have been built with NUMA support.\n",
      "2024-03-13 23:10:59.182420: I external/local_xla/xla/stream_executor/cuda/cuda_executor.cc:887] could not open file to read NUMA node: /sys/bus/pci/devices/0000:01:00.0/numa_node\n",
      "Your kernel may have been built without NUMA support.\n",
      "2024-03-13 23:10:59.182435: I tensorflow/core/common_runtime/gpu/gpu_device.cc:1929] Created device /job:localhost/replica:0/task:0/device:GPU:0 with 7537 MB memory:  -> device: 0, name: NVIDIA GeForce RTX 3080, pci bus id: 0000:01:00.0, compute capability: 8.6\n",
      "2024-03-13 23:11:00.168663: I external/local_tsl/tsl/platform/default/subprocess.cc:304] Start cannot spawn child process: No such file or directory\n",
      "2024-03-13 23:11:00.541653: I external/local_xla/xla/service/service.cc:168] XLA service 0x7f03f746fe70 initialized for platform CUDA (this does not guarantee that XLA will be used). Devices:\n",
      "2024-03-13 23:11:00.541704: I external/local_xla/xla/service/service.cc:176]   StreamExecutor device (0): NVIDIA GeForce RTX 3080, Compute Capability 8.6\n",
      "2024-03-13 23:11:00.546394: I tensorflow/compiler/mlir/tensorflow/utils/dump_mlir_util.cc:269] disabling MLIR crash reproducer, set env var `MLIR_CRASH_REPRODUCER_DIRECTORY` to enable.\n",
      "2024-03-13 23:11:00.558518: I external/local_xla/xla/stream_executor/cuda/cuda_dnn.cc:454] Loaded cuDNN version 8904\n",
      "WARNING: All log messages before absl::InitializeLog() is called are written to STDERR\n",
      "I0000 00:00:1710367860.619254  121164 device_compiler.h:186] Compiled cluster using XLA!  This line is logged at most once for the lifetime of the process.\n"
     ]
    },
    {
     "name": "stdout",
     "output_type": "stream",
     "text": [
      "7/7 [==============================] - 2s 52ms/step - loss: 0.6296 - accuracy: 0.4943 - val_loss: 0.6122 - val_accuracy: 0.5000\n",
      "Epoch 2/10\n",
      "7/7 [==============================] - 0s 8ms/step - loss: 0.5974 - accuracy: 0.5665 - val_loss: 0.6475 - val_accuracy: 0.4764\n",
      "Epoch 3/10\n",
      "7/7 [==============================] - 0s 9ms/step - loss: 0.5913 - accuracy: 0.5665 - val_loss: 0.6402 - val_accuracy: 0.5000\n",
      "Epoch 4/10\n",
      "7/7 [==============================] - 0s 8ms/step - loss: 0.5617 - accuracy: 0.6502 - val_loss: 0.6029 - val_accuracy: 0.5660\n",
      "Epoch 5/10\n",
      "7/7 [==============================] - 0s 8ms/step - loss: 0.5510 - accuracy: 0.7374 - val_loss: 0.5939 - val_accuracy: 0.5519\n",
      "Epoch 6/10\n",
      "7/7 [==============================] - 0s 8ms/step - loss: 0.5430 - accuracy: 0.7408 - val_loss: 0.5993 - val_accuracy: 0.5330\n",
      "Epoch 7/10\n",
      "7/7 [==============================] - 0s 9ms/step - loss: 0.5260 - accuracy: 0.7489 - val_loss: 0.6005 - val_accuracy: 0.5991\n",
      "Epoch 8/10\n",
      "7/7 [==============================] - 0s 8ms/step - loss: 0.5164 - accuracy: 0.7477 - val_loss: 0.6102 - val_accuracy: 0.6085\n",
      "Epoch 9/10\n",
      "7/7 [==============================] - 0s 8ms/step - loss: 0.5106 - accuracy: 0.7076 - val_loss: 0.6286 - val_accuracy: 0.5755\n",
      "Epoch 10/10\n",
      "7/7 [==============================] - 0s 9ms/step - loss: 0.5039 - accuracy: 0.7202 - val_loss: 0.6210 - val_accuracy: 0.6085\n",
      "\n",
      "Test\n",
      "2/2 [==============================] - 0s 6ms/step - loss: 0.7167 - accuracy: 0.6122\n"
     ]
    }
   ],
   "source": [
    "#  create a model\n",
    "model = keras.Sequential([\n",
    "    keras.layers.Dense(100, input_shape=(len(players),), activation='relu'),\n",
    "    keras.layers.Dense(100, activation='relu'),\n",
    "    keras.layers.Dense(1, activation='sigmoid')\n",
    "])\n",
    "# compile the model\n",
    "model.compile(optimizer='adam',\n",
    "              loss='binary_crossentropy',\n",
    "\n",
    "              # metrics=['accuracy'],\n",
    "              weighted_metrics=['accuracy']\n",
    "              )\n",
    "# train the model\n",
    "model.fit(X_train,\n",
    "          y_train, \n",
    "          sample_weight=w_train,\n",
    "          validation_data=(X_test, y_test, w_test), \n",
    "          epochs=10)\n",
    "# test the model\n",
    "print (\"\")\n",
    "print (\"Test\")\n",
    "test_loss, test_acc = model.evaluate(X_test,  y_test, verbose=1)"
   ]
  },
  {
   "cell_type": "code",
   "execution_count": 14,
   "metadata": {},
   "outputs": [
    {
     "name": "stdout",
     "output_type": "stream",
     "text": [
      "present_players are ['Вадим', 'Ваня', 'Гриша', 'Данил', 'Ден', 'Джун', 'Сеньор', 'Юран']\n"
     ]
    }
   ],
   "source": [
    "all_results = []\n",
    "# add bots to the present players if there are less than 8 players\n",
    "while len(present_players) < 8:\n",
    "      present_players = present_players + [\"Бот\"]\n",
    "print ('present_players are', present_players)\n",
    "for i in range(0, len(present_players)):\n",
    "    for j in range(i+1, len(present_players)):\n",
    "        for k in range(j+1, len(present_players)):\n",
    "            for l in range(k+1, len(present_players)):\n",
    "                                team1 = [present_players[i], present_players[j], present_players[k], present_players[l]]\n",
    "                                # subtract team 1 player form list of present players, \"Бот\" can be used many times\n",
    "                                team2 = [x for x in present_players if x not in team1]\n",
    "                                # if team 2 has less than 4 players, add \"Бот\" to team 2\n",
    "                                while len(team2) < 4:\n",
    "                                    team2.append(\"Бот\")\n",
    "                                row = pd.DataFrame([team1 + team2], columns=columnsPlayers)\n",
    "                                 # assign 1 or 2 to each player based on the team\n",
    "                                for player in players:\n",
    "                                    row[player] = 0\n",
    "                                    if player in team1:\n",
    "                                        row[player] = 1\n",
    "                                    if player in team2:\n",
    "                                        row[player] = 2\n",
    "                                # scale the data\n",
    "                                row = scaler.transform(row[players])\n",
    "                                row =row[players]\n",
    "\n",
    "                                # predict the result\n",
    "                                result = model.predict(row, verbose=0)\n",
    "                                all_results.append((team1, team2, result))\n",
    "# sort the results\n",
    "all_results.sort(key=lambda x: x[2], reverse=True)"
   ]
  },
  {
   "cell_type": "code",
   "execution_count": 15,
   "metadata": {},
   "outputs": [
    {
     "name": "stdout",
     "output_type": "stream",
     "text": [
      "['Ваня', 'Гриша', 'Сеньор', 'Юран'] vs ['Вадим', 'Данил', 'Ден', 'Джун'] : 0.7842876\n",
      "['Ваня', 'Гриша', 'Ден', 'Сеньор'] vs ['Вадим', 'Данил', 'Джун', 'Юран'] : 0.7829683\n",
      "['Вадим', 'Ваня', 'Гриша', 'Сеньор'] vs ['Данил', 'Ден', 'Джун', 'Юран'] : 0.7822327\n",
      "['Вадим', 'Гриша', 'Сеньор', 'Юран'] vs ['Ваня', 'Данил', 'Ден', 'Джун'] : 0.7786025\n",
      "['Вадим', 'Гриша', 'Ден', 'Сеньор'] vs ['Ваня', 'Данил', 'Джун', 'Юран'] : 0.7739863\n",
      "['Гриша', 'Ден', 'Сеньор', 'Юран'] vs ['Вадим', 'Ваня', 'Данил', 'Джун'] : 0.7735441\n",
      "['Ваня', 'Ден', 'Сеньор', 'Юран'] vs ['Вадим', 'Гриша', 'Данил', 'Джун'] : 0.7708754\n",
      "['Гриша', 'Данил', 'Ден', 'Сеньор'] vs ['Вадим', 'Ваня', 'Джун', 'Юран'] : 0.77059305\n",
      "['Вадим', 'Ваня', 'Сеньор', 'Юран'] vs ['Гриша', 'Данил', 'Ден', 'Джун'] : 0.7700575\n",
      "['Вадим', 'Гриша', 'Ден', 'Юран'] vs ['Ваня', 'Данил', 'Джун', 'Сеньор'] : 0.76935625\n",
      "['Ваня', 'Гриша', 'Ден', 'Юран'] vs ['Вадим', 'Данил', 'Джун', 'Сеньор'] : 0.76858777\n",
      "['Вадим', 'Ваня', 'Гриша', 'Ден'] vs ['Данил', 'Джун', 'Сеньор', 'Юран'] : 0.7620478\n",
      "['Вадим', 'Ваня', 'Гриша', 'Юран'] vs ['Данил', 'Ден', 'Джун', 'Сеньор'] : 0.76145786\n",
      "['Гриша', 'Данил', 'Ден', 'Юран'] vs ['Вадим', 'Ваня', 'Джун', 'Сеньор'] : 0.7614564\n",
      "['Гриша', 'Данил', 'Сеньор', 'Юран'] vs ['Вадим', 'Ваня', 'Ден', 'Джун'] : 0.7565721\n",
      "['Вадим', 'Ваня', 'Ден', 'Юран'] vs ['Гриша', 'Данил', 'Джун', 'Сеньор'] : 0.756343\n",
      "['Вадим', 'Ваня', 'Ден', 'Сеньор'] vs ['Гриша', 'Данил', 'Джун', 'Юран'] : 0.7526033\n",
      "['Вадим', 'Гриша', 'Данил', 'Сеньор'] vs ['Ваня', 'Ден', 'Джун', 'Юран'] : 0.74807686\n",
      "['Вадим', 'Ден', 'Сеньор', 'Юран'] vs ['Ваня', 'Гриша', 'Данил', 'Джун'] : 0.7475069\n",
      "['Вадим', 'Гриша', 'Данил', 'Ден'] vs ['Ваня', 'Джун', 'Сеньор', 'Юран'] : 0.74532497\n",
      "['Ваня', 'Гриша', 'Данил', 'Ден'] vs ['Вадим', 'Джун', 'Сеньор', 'Юран'] : 0.7415125\n",
      "['Ваня', 'Гриша', 'Данил', 'Сеньор'] vs ['Вадим', 'Ден', 'Джун', 'Юран'] : 0.74085534\n",
      "['Вадим', 'Гриша', 'Данил', 'Юран'] vs ['Ваня', 'Ден', 'Джун', 'Сеньор'] : 0.7396281\n",
      "['Ваня', 'Данил', 'Сеньор', 'Юран'] vs ['Вадим', 'Гриша', 'Ден', 'Джун'] : 0.73514044\n",
      "['Ваня', 'Гриша', 'Данил', 'Юран'] vs ['Вадим', 'Ден', 'Джун', 'Сеньор'] : 0.7292569\n",
      "['Вадим', 'Данил', 'Ден', 'Юран'] vs ['Ваня', 'Гриша', 'Джун', 'Сеньор'] : 0.72827387\n",
      "['Вадим', 'Данил', 'Сеньор', 'Юран'] vs ['Ваня', 'Гриша', 'Ден', 'Джун'] : 0.7274708\n",
      "['Вадим', 'Ваня', 'Гриша', 'Данил'] vs ['Ден', 'Джун', 'Сеньор', 'Юран'] : 0.72056395\n",
      "['Вадим', 'Данил', 'Ден', 'Сеньор'] vs ['Ваня', 'Гриша', 'Джун', 'Юран'] : 0.71937853\n",
      "['Данил', 'Ден', 'Сеньор', 'Юран'] vs ['Вадим', 'Ваня', 'Гриша', 'Джун'] : 0.7176676\n",
      "['Ваня', 'Данил', 'Ден', 'Сеньор'] vs ['Вадим', 'Гриша', 'Джун', 'Юран'] : 0.7145051\n",
      "['Вадим', 'Ваня', 'Данил', 'Сеньор'] vs ['Гриша', 'Ден', 'Джун', 'Юран'] : 0.7141648\n",
      "['Ваня', 'Данил', 'Ден', 'Юран'] vs ['Вадим', 'Гриша', 'Джун', 'Сеньор'] : 0.7119502\n",
      "['Вадим', 'Ваня', 'Данил', 'Юран'] vs ['Гриша', 'Ден', 'Джун', 'Сеньор'] : 0.7111503\n",
      "['Вадим', 'Ваня', 'Данил', 'Ден'] vs ['Гриша', 'Джун', 'Сеньор', 'Юран'] : 0.69600767\n",
      "['Гриша', 'Джун', 'Сеньор', 'Юран'] vs ['Вадим', 'Ваня', 'Данил', 'Ден'] : 0.69251686\n",
      "['Гриша', 'Ден', 'Джун', 'Сеньор'] vs ['Вадим', 'Ваня', 'Данил', 'Юран'] : 0.6690801\n",
      "['Гриша', 'Ден', 'Джун', 'Юран'] vs ['Вадим', 'Ваня', 'Данил', 'Сеньор'] : 0.66282463\n",
      "['Вадим', 'Гриша', 'Джун', 'Сеньор'] vs ['Ваня', 'Данил', 'Ден', 'Юран'] : 0.6535469\n",
      "['Вадим', 'Джун', 'Сеньор', 'Юран'] vs ['Ваня', 'Гриша', 'Данил', 'Ден'] : 0.64985603\n",
      "['Вадим', 'Гриша', 'Джун', 'Юран'] vs ['Ваня', 'Данил', 'Ден', 'Сеньор'] : 0.6491184\n",
      "['Ваня', 'Джун', 'Сеньор', 'Юран'] vs ['Вадим', 'Гриша', 'Данил', 'Ден'] : 0.6425192\n",
      "['Ден', 'Джун', 'Сеньор', 'Юран'] vs ['Вадим', 'Ваня', 'Гриша', 'Данил'] : 0.6401258\n",
      "['Ваня', 'Гриша', 'Джун', 'Сеньор'] vs ['Вадим', 'Данил', 'Ден', 'Юран'] : 0.63341725\n",
      "['Ваня', 'Гриша', 'Джун', 'Юран'] vs ['Вадим', 'Данил', 'Ден', 'Сеньор'] : 0.62847334\n",
      "['Гриша', 'Данил', 'Джун', 'Сеньор'] vs ['Вадим', 'Ваня', 'Ден', 'Юран'] : 0.62650806\n",
      "['Данил', 'Джун', 'Сеньор', 'Юран'] vs ['Вадим', 'Ваня', 'Гриша', 'Ден'] : 0.6256277\n",
      "['Вадим', 'Гриша', 'Ден', 'Джун'] vs ['Ваня', 'Данил', 'Сеньор', 'Юран'] : 0.62346905\n",
      "['Вадим', 'Ден', 'Джун', 'Юран'] vs ['Ваня', 'Гриша', 'Данил', 'Сеньор'] : 0.61955905\n",
      "['Гриша', 'Данил', 'Ден', 'Джун'] vs ['Вадим', 'Ваня', 'Сеньор', 'Юран'] : 0.61426723\n",
      "['Данил', 'Ден', 'Джун', 'Сеньор'] vs ['Вадим', 'Ваня', 'Гриша', 'Юран'] : 0.61301935\n",
      "['Вадим', 'Ваня', 'Джун', 'Юран'] vs ['Гриша', 'Данил', 'Ден', 'Сеньор'] : 0.6116587\n",
      "['Вадим', 'Ден', 'Джун', 'Сеньор'] vs ['Ваня', 'Гриша', 'Данил', 'Юран'] : 0.60913223\n",
      "['Вадим', 'Ваня', 'Гриша', 'Джун'] vs ['Данил', 'Ден', 'Сеньор', 'Юран'] : 0.6073103\n",
      "['Гриша', 'Данил', 'Джун', 'Юран'] vs ['Вадим', 'Ваня', 'Ден', 'Сеньор'] : 0.60444504\n",
      "['Ваня', 'Гриша', 'Ден', 'Джун'] vs ['Вадим', 'Данил', 'Сеньор', 'Юран'] : 0.6028723\n",
      "['Вадим', 'Ваня', 'Джун', 'Сеньор'] vs ['Гриша', 'Данил', 'Ден', 'Юран'] : 0.60163605\n",
      "['Ваня', 'Ден', 'Джун', 'Сеньор'] vs ['Вадим', 'Гриша', 'Данил', 'Юран'] : 0.5991491\n",
      "['Ваня', 'Ден', 'Джун', 'Юран'] vs ['Вадим', 'Гриша', 'Данил', 'Сеньор'] : 0.5963402\n",
      "['Данил', 'Ден', 'Джун', 'Юран'] vs ['Вадим', 'Ваня', 'Гриша', 'Сеньор'] : 0.5956474\n",
      "['Вадим', 'Данил', 'Джун', 'Сеньор'] vs ['Ваня', 'Гриша', 'Ден', 'Юран'] : 0.5918785\n",
      "['Вадим', 'Ваня', 'Ден', 'Джун'] vs ['Гриша', 'Данил', 'Сеньор', 'Юран'] : 0.5819439\n",
      "['Вадим', 'Данил', 'Джун', 'Юран'] vs ['Ваня', 'Гриша', 'Ден', 'Сеньор'] : 0.5766361\n",
      "['Вадим', 'Гриша', 'Данил', 'Джун'] vs ['Ваня', 'Ден', 'Сеньор', 'Юран'] : 0.57396114\n",
      "['Вадим', 'Данил', 'Ден', 'Джун'] vs ['Ваня', 'Гриша', 'Сеньор', 'Юран'] : 0.57370937\n",
      "['Ваня', 'Данил', 'Ден', 'Джун'] vs ['Вадим', 'Гриша', 'Сеньор', 'Юран'] : 0.55345935\n",
      "['Ваня', 'Данил', 'Джун', 'Юран'] vs ['Вадим', 'Гриша', 'Ден', 'Сеньор'] : 0.5515815\n",
      "['Ваня', 'Данил', 'Джун', 'Сеньор'] vs ['Вадим', 'Гриша', 'Ден', 'Юран'] : 0.55056775\n",
      "['Ваня', 'Гриша', 'Данил', 'Джун'] vs ['Вадим', 'Ден', 'Сеньор', 'Юран'] : 0.5477099\n",
      "['Вадим', 'Ваня', 'Данил', 'Джун'] vs ['Гриша', 'Ден', 'Сеньор', 'Юран'] : 0.53388435\n"
     ]
    }
   ],
   "source": [
    "# print the results\n",
    "for i in range(0, len(all_results)):\n",
    "    print(all_results[i][0], \"vs\", all_results[i][1], \":\", all_results[i][2][0][0])"
   ]
  },
  {
   "cell_type": "code",
   "execution_count": 16,
   "metadata": {},
   "outputs": [
    {
     "name": "stdout",
     "output_type": "stream",
     "text": [
      "best team by median:\n",
      "['Гриша', 'Джун', 'Сеньор', 'Юран'] vs ['Вадим', 'Ваня', 'Данил', 'Ден'] with output= 0.69251686\n"
     ]
    }
   ],
   "source": [
    "#  take the middle of the list\n",
    "middle = len(all_results) // 2\n",
    "print (\"best team by median:\")\n",
    "print(all_results[middle][0], \"vs\", all_results[middle][1], \"with output=\", all_results[middle][2][0][0])"
   ]
  },
  {
   "cell_type": "code",
   "execution_count": 17,
   "metadata": {},
   "outputs": [
    {
     "name": "stdout",
     "output_type": "stream",
     "text": [
      "best team by model 50% result:\n",
      "['Вадим', 'Ваня', 'Данил', 'Джун'] vs ['Гриша', 'Ден', 'Сеньор', 'Юран'] with output= 0.53388435\n"
     ]
    }
   ],
   "source": [
    "# take closest to 50% result\n",
    "closest = min(all_results, key=lambda x: abs(x[2] - 0.5))\n",
    "print (\"best team by model 50% result:\")\n",
    "print(closest[0], \"vs\", closest[1], \"with output=\", closest[2][0][0])"
   ]
  },
  {
   "cell_type": "code",
   "execution_count": null,
   "metadata": {},
   "outputs": [],
   "source": []
  }
 ],
 "metadata": {
  "kernelspec": {
   "display_name": "tf2",
   "language": "python",
   "name": "python3"
  },
  "language_info": {
   "codemirror_mode": {
    "name": "ipython",
    "version": 3
   },
   "file_extension": ".py",
   "mimetype": "text/x-python",
   "name": "python",
   "nbconvert_exporter": "python",
   "pygments_lexer": "ipython3",
   "version": "3.10.13"
  }
 },
 "nbformat": 4,
 "nbformat_minor": 2
}
