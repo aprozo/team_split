{
 "cells": [
  {
   "cell_type": "code",
   "execution_count": 1,
   "metadata": {},
   "outputs": [
    {
     "name": "stderr",
     "output_type": "stream",
     "text": [
      "/tmp/ipykernel_137546/1425855459.py:2: DeprecationWarning: \n",
      "Pyarrow will become a required dependency of pandas in the next major release of pandas (pandas 3.0),\n",
      "(to allow more performant data types, such as the Arrow string type, and better interoperability with other libraries)\n",
      "but was not found to be installed on your system.\n",
      "If this would cause problems for you,\n",
      "please provide us feedback at https://github.com/pandas-dev/pandas/issues/54466\n",
      "        \n",
      "  import pandas as pd\n",
      "2024-03-13 23:21:36.729589: E external/local_xla/xla/stream_executor/cuda/cuda_dnn.cc:9261] Unable to register cuDNN factory: Attempting to register factory for plugin cuDNN when one has already been registered\n",
      "2024-03-13 23:21:36.729634: E external/local_xla/xla/stream_executor/cuda/cuda_fft.cc:607] Unable to register cuFFT factory: Attempting to register factory for plugin cuFFT when one has already been registered\n",
      "2024-03-13 23:21:36.730329: E external/local_xla/xla/stream_executor/cuda/cuda_blas.cc:1515] Unable to register cuBLAS factory: Attempting to register factory for plugin cuBLAS when one has already been registered\n",
      "2024-03-13 23:21:36.734245: I tensorflow/core/platform/cpu_feature_guard.cc:182] This TensorFlow binary is optimized to use available CPU instructions in performance-critical operations.\n",
      "To enable the following instructions: AVX2 FMA, in other operations, rebuild TensorFlow with the appropriate compiler flags.\n",
      "2024-03-13 23:21:37.350603: W tensorflow/compiler/tf2tensorrt/utils/py_utils.cc:38] TF-TRT Warning: Could not find TensorRT\n"
     ]
    }
   ],
   "source": [
    "import numpy as np\n",
    "import pandas as pd\n",
    "import tensorflow as tf\n",
    "from tensorflow import keras\n",
    "from sklearn.model_selection import train_test_split\n",
    "from sklearn.preprocessing import StandardScaler"
   ]
  },
  {
   "cell_type": "code",
   "execution_count": 2,
   "metadata": {},
   "outputs": [],
   "source": [
    "game_threshold = 4 # minimum number of games to be in the dataset\n",
    "test_size = 0.2 # % of the dataset is used for testing\n",
    "ModelHasBot = True #  if True, the bot is considered as a player - to consider bot statistics in games 2vs3 or 3vs4\n",
    "timeStart ='' #'2023-03-01' # start date of the dataset\n",
    "present_players = ['Вадим', 'Ваня', 'Гриша', 'Данил', 'Ден', 'Джун','Сеньор','Юран']\n",
    "\n",
    "# 'Вадим', 'Ваня', 'Гриша', 'Данил', 'Ден', 'Джун', 'Миша', 'Ондрей', 'Савва', 'Сеньор', 'Юран'\n"
   ]
  },
  {
   "cell_type": "markdown",
   "metadata": {},
   "source": [
    "# Data preprocessing"
   ]
  },
  {
   "cell_type": "code",
   "execution_count": 3,
   "metadata": {},
   "outputs": [],
   "source": [
    "dataset = pd.read_csv('data.csv') \n",
    "columnsPlayers = [\"Player1\",\"Player2\",\"Player3\",\"Player4\",\"Player5\",\"Player6\",\"Player7\",\"Player8\"]\n",
    "columnsTeam1 = [\"Player1\",\"Player2\",\"Player3\",\"Player4\"]\n",
    "columnsTeam2 = [\"Player5\",\"Player6\",\"Player7\",\"Player8\"]"
   ]
  },
  {
   "cell_type": "code",
   "execution_count": 4,
   "metadata": {},
   "outputs": [
    {
     "name": "stdout",
     "output_type": "stream",
     "text": [
      "Recorder\n",
      "(Сеньор)    34\n",
      "(Ден)       33\n",
      "(Гриша)     27\n",
      "(Данил)     27\n",
      "(Миша)       1\n",
      "Name: count, dtype: int64\n"
     ]
    }
   ],
   "source": [
    "dataset[\"Map\"] = dataset[\"Map\"].str.lower() # convert all maps to lower case\n",
    "dataset['Date'] = pd.to_datetime(dataset['Date'],format='%d.%m.%Y') # convert date to datetime\n",
    "dataset=dataset.drop_duplicates(subset=['Date','Map']) # drop duplicates with same date and map\n",
    "dataset.to_csv('new_data.csv',index=False) # save the new dataset\n",
    "print(dataset.Recorder.value_counts()) # count the number of games played by each player\n",
    "dataset.drop(columns=['link','Recorder','vs'],   inplace=True) # drop columns that are not needed\n",
    "\n",
    "#  drop entries which were played before the start date\n",
    "if timeStart != '':\n",
    "    dataset = dataset[dataset['Date'] >= timeStart]\n",
    "\n"
   ]
  },
  {
   "cell_type": "markdown",
   "metadata": {},
   "source": [
    "### Add column with number of maps in each campaign"
   ]
  },
  {
   "cell_type": "code",
   "execution_count": 5,
   "metadata": {},
   "outputs": [
    {
     "data": {
      "text/plain": [
       "Map\n",
       "смерть в воздухе      13\n",
       "нет милосердию        13\n",
       "переход               12\n",
       "мрачный карнавал      12\n",
       "приход                11\n",
       "похоронный звон       10\n",
       "ливень                 9\n",
       "кровавая жатва         9\n",
       "вымерший центр         9\n",
       "холодный ручей         7\n",
       "жертва                 6\n",
       "болотная лихорадка     4\n",
       "последний рубеж        4\n",
       "роковой полет          3\n",
       "Name: count, dtype: int64"
      ]
     },
     "execution_count": 5,
     "metadata": {},
     "output_type": "execute_result"
    }
   ],
   "source": [
    "map_weights = {\n",
    "'ливень':5,\n",
    "'кровавая жатва':5, \n",
    "'переход':3,\n",
    "'мрачный карнавал':5,\n",
    "'холодный ручей':4,\n",
    "'похоронный звон':5,\n",
    "'приход':5,\n",
    "'смерть в воздухе':5,\n",
    "'нет милосердию':5,\n",
    "'вымерший центр':4,\n",
    "'болотная лихорадка':4,\n",
    "'последний рубеж':2,\n",
    "'жертва':3,\n",
    "'роковой полет':5}\n",
    "\n",
    "def map_weight(map):\n",
    "    return map_weights[map]\n",
    "\n",
    "dataset[\"Map_weight\"] = dataset[\"Map\"].apply(map_weight)\n",
    "dataset[\"Map_weight\"] = dataset[\"Map_weight\"]/ dataset[\"Map_weight\"].max()# scale weight\n",
    "\n",
    "dataset.Map.value_counts()"
   ]
  },
  {
   "cell_type": "markdown",
   "metadata": {},
   "source": [
    "#### Unique players and cleaning those with small statistics"
   ]
  },
  {
   "cell_type": "code",
   "execution_count": 6,
   "metadata": {},
   "outputs": [
    {
     "data": {
      "text/plain": [
       "array(['Бот', 'Вадим', 'Ваня', 'Гриша', 'Данил', 'Ден', 'Джун', 'Миша',\n",
       "       'Ондрей', 'Савва', 'Сеньор', 'Юран'], dtype=object)"
      ]
     },
     "execution_count": 6,
     "metadata": {},
     "output_type": "execute_result"
    }
   ],
   "source": [
    "# unique players from all 8 columns [\"Player1\",\"Player2\",\"Player3\",\"Player4\",\"Player5\",\"Player6\",\"Player7\",\"Player8\"]\n",
    "players = np.unique(dataset[columnsPlayers].values)\n",
    "players = pd.DataFrame(players, columns=[\"Player\"])\n",
    "# filter players that have played more than 'game_threshold' games\n",
    "players = players[players[\"Player\"].map(dataset[columnsPlayers].stack().value_counts()) >= game_threshold]\n",
    "players = players[\"Player\"].values\n",
    "\n",
    "# remove rows with players not in the list\n",
    "dataset = dataset[dataset[columnsPlayers].isin(players).all(axis=1)]\n",
    "\n",
    "if not ModelHasBot: # remove bot from the list of players\n",
    "    players = players[players != 'Бот']\n",
    "players"
   ]
  },
  {
   "cell_type": "code",
   "execution_count": 7,
   "metadata": {},
   "outputs": [],
   "source": [
    "# randomly assign 1 or 2 to TeamWon column\n",
    "dataset[\"TeamWon\"] = np.random.randint(1, 3, dataset.shape[0]) # 1 or 2"
   ]
  },
  {
   "cell_type": "code",
   "execution_count": 8,
   "metadata": {},
   "outputs": [],
   "source": [
    "# Players from \"Team 1\" are Player1, Player2, Player3, Player4\n",
    "# Players from \"Team 2\" are Player5, Player6, Player7, Player8\n",
    "# TeamWon column is the team that won the game\n",
    "#  assign to player in which team he was\n",
    "for player in players:\n",
    "    # make default value 0\n",
    "    dataset[player] = 0\n",
    "    dataset.loc[(dataset['Player1'] == player) | (dataset['Player2'] == player) | (dataset['Player3'] == player) | (dataset['Player4'] == player), player] = 1\n",
    "    dataset.loc[(dataset['Player5'] == player) | (dataset['Player6'] == player) | (dataset['Player7'] == player) | (dataset['Player8'] == player), player] = 2\n",
    "    if player==\"Бот\":\n",
    "        dataset.loc[(dataset['Player4'] == \"Бот\") & (dataset['Player8'] == \"Бот\"), 'Бот'] = 0 # remove bot from statistics of 3 vs 3\n"
   ]
  },
  {
   "cell_type": "code",
   "execution_count": 9,
   "metadata": {},
   "outputs": [],
   "source": [
    "#  add data with swapped players to lower values of absent players\n",
    "swapped = dataset.copy()\n",
    "swapped[columnsTeam1+columnsTeam2] = swapped[columnsTeam2+columnsTeam1]\n",
    "# dataset = pd.concat([dataset, swapped])"
   ]
  },
  {
   "cell_type": "markdown",
   "metadata": {},
   "source": [
    "## Train the model"
   ]
  },
  {
   "cell_type": "code",
   "execution_count": 10,
   "metadata": {},
   "outputs": [],
   "source": [
    "# split the dataset into train and test\n",
    "train, test = train_test_split(dataset,  test_size=test_size, random_state=42)\n",
    "\n",
    "# select the columns to predict\n",
    "y_train = train['TeamWon']-1  # 0 or 1\n",
    "y_test = test['TeamWon']-1 # 0 or 1\n",
    "\n",
    "# select the columns to train the model\n",
    "X_train = train[players]\n",
    "w_train = train[\"Map_weight\"]\n",
    "X_test = test[players]\n",
    "w_test = test[\"Map_weight\"]\n",
    "\n",
    "#  scale the data\n",
    "scaler = StandardScaler()\n",
    "X_train = scaler.fit_transform(X_train)\n",
    "X_test = scaler.transform(X_test)"
   ]
  },
  {
   "cell_type": "code",
   "execution_count": 11,
   "metadata": {},
   "outputs": [
    {
     "name": "stderr",
     "output_type": "stream",
     "text": [
      "2024-03-13 23:21:38.302869: I external/local_xla/xla/stream_executor/cuda/cuda_executor.cc:887] could not open file to read NUMA node: /sys/bus/pci/devices/0000:01:00.0/numa_node\n",
      "Your kernel may have been built without NUMA support.\n"
     ]
    },
    {
     "name": "stdout",
     "output_type": "stream",
     "text": [
      "Epoch 1/10\n"
     ]
    },
    {
     "name": "stderr",
     "output_type": "stream",
     "text": [
      "2024-03-13 23:21:38.320249: I external/local_xla/xla/stream_executor/cuda/cuda_executor.cc:887] could not open file to read NUMA node: /sys/bus/pci/devices/0000:01:00.0/numa_node\n",
      "Your kernel may have been built without NUMA support.\n",
      "2024-03-13 23:21:38.320300: I external/local_xla/xla/stream_executor/cuda/cuda_executor.cc:887] could not open file to read NUMA node: /sys/bus/pci/devices/0000:01:00.0/numa_node\n",
      "Your kernel may have been built without NUMA support.\n",
      "2024-03-13 23:21:38.322134: I external/local_xla/xla/stream_executor/cuda/cuda_executor.cc:887] could not open file to read NUMA node: /sys/bus/pci/devices/0000:01:00.0/numa_node\n",
      "Your kernel may have been built without NUMA support.\n",
      "2024-03-13 23:21:38.322198: I external/local_xla/xla/stream_executor/cuda/cuda_executor.cc:887] could not open file to read NUMA node: /sys/bus/pci/devices/0000:01:00.0/numa_node\n",
      "Your kernel may have been built without NUMA support.\n",
      "2024-03-13 23:21:38.322229: I external/local_xla/xla/stream_executor/cuda/cuda_executor.cc:887] could not open file to read NUMA node: /sys/bus/pci/devices/0000:01:00.0/numa_node\n",
      "Your kernel may have been built without NUMA support.\n",
      "2024-03-13 23:21:38.460670: I external/local_xla/xla/stream_executor/cuda/cuda_executor.cc:887] could not open file to read NUMA node: /sys/bus/pci/devices/0000:01:00.0/numa_node\n",
      "Your kernel may have been built without NUMA support.\n",
      "2024-03-13 23:21:38.460733: I external/local_xla/xla/stream_executor/cuda/cuda_executor.cc:887] could not open file to read NUMA node: /sys/bus/pci/devices/0000:01:00.0/numa_node\n",
      "Your kernel may have been built without NUMA support.\n",
      "2024-03-13 23:21:38.460741: I tensorflow/core/common_runtime/gpu/gpu_device.cc:2022] Could not identify NUMA node of platform GPU id 0, defaulting to 0.  Your kernel may not have been built with NUMA support.\n",
      "2024-03-13 23:21:38.460778: I external/local_xla/xla/stream_executor/cuda/cuda_executor.cc:887] could not open file to read NUMA node: /sys/bus/pci/devices/0000:01:00.0/numa_node\n",
      "Your kernel may have been built without NUMA support.\n",
      "2024-03-13 23:21:38.460793: I tensorflow/core/common_runtime/gpu/gpu_device.cc:1929] Created device /job:localhost/replica:0/task:0/device:GPU:0 with 7537 MB memory:  -> device: 0, name: NVIDIA GeForce RTX 3080, pci bus id: 0000:01:00.0, compute capability: 8.6\n",
      "2024-03-13 23:21:39.311760: I external/local_tsl/tsl/platform/default/subprocess.cc:304] Start cannot spawn child process: No such file or directory\n",
      "2024-03-13 23:21:39.678551: I external/local_xla/xla/service/service.cc:168] XLA service 0x7f2ac06f7c90 initialized for platform CUDA (this does not guarantee that XLA will be used). Devices:\n",
      "2024-03-13 23:21:39.678589: I external/local_xla/xla/service/service.cc:176]   StreamExecutor device (0): NVIDIA GeForce RTX 3080, Compute Capability 8.6\n",
      "2024-03-13 23:21:39.683151: I tensorflow/compiler/mlir/tensorflow/utils/dump_mlir_util.cc:269] disabling MLIR crash reproducer, set env var `MLIR_CRASH_REPRODUCER_DIRECTORY` to enable.\n",
      "2024-03-13 23:21:39.696465: I external/local_xla/xla/stream_executor/cuda/cuda_dnn.cc:454] Loaded cuDNN version 8904\n",
      "WARNING: All log messages before absl::InitializeLog() is called are written to STDERR\n",
      "I0000 00:00:1710368499.757054  137663 device_compiler.h:186] Compiled cluster using XLA!  This line is logged at most once for the lifetime of the process.\n"
     ]
    },
    {
     "name": "stdout",
     "output_type": "stream",
     "text": [
      "3/3 [==============================] - 1s 91ms/step - loss: 0.6145 - accuracy: 0.5490 - val_loss: 0.6096 - val_accuracy: 0.5000\n",
      "Epoch 2/10\n",
      "3/3 [==============================] - 0s 15ms/step - loss: 0.5915 - accuracy: 0.6005 - val_loss: 0.6076 - val_accuracy: 0.5000\n",
      "Epoch 3/10\n",
      "3/3 [==============================] - 0s 15ms/step - loss: 0.5749 - accuracy: 0.6495 - val_loss: 0.6069 - val_accuracy: 0.5392\n",
      "Epoch 4/10\n",
      "3/3 [==============================] - 0s 16ms/step - loss: 0.5609 - accuracy: 0.6691 - val_loss: 0.6067 - val_accuracy: 0.5686\n",
      "Epoch 5/10\n",
      "3/3 [==============================] - 0s 15ms/step - loss: 0.5487 - accuracy: 0.6814 - val_loss: 0.6085 - val_accuracy: 0.5196\n",
      "Epoch 6/10\n",
      "3/3 [==============================] - 0s 15ms/step - loss: 0.5363 - accuracy: 0.7230 - val_loss: 0.6106 - val_accuracy: 0.4706\n",
      "Epoch 7/10\n",
      "3/3 [==============================] - 0s 15ms/step - loss: 0.5254 - accuracy: 0.7230 - val_loss: 0.6113 - val_accuracy: 0.4706\n",
      "Epoch 8/10\n",
      "3/3 [==============================] - 0s 15ms/step - loss: 0.5150 - accuracy: 0.7230 - val_loss: 0.6120 - val_accuracy: 0.5196\n",
      "Epoch 9/10\n",
      "3/3 [==============================] - 0s 15ms/step - loss: 0.5051 - accuracy: 0.7353 - val_loss: 0.6120 - val_accuracy: 0.5196\n",
      "Epoch 10/10\n",
      "3/3 [==============================] - 0s 15ms/step - loss: 0.4949 - accuracy: 0.7451 - val_loss: 0.6119 - val_accuracy: 0.5196\n",
      "\n",
      "Test\n",
      "1/1 [==============================] - 0s 76ms/step - loss: 0.6887 - accuracy: 0.5217\n"
     ]
    }
   ],
   "source": [
    "#  create a model\n",
    "model = keras.Sequential([\n",
    "    keras.layers.Dense(100, input_shape=(len(players),), activation='relu'),\n",
    "    keras.layers.Dense(100, activation='relu'),\n",
    "    keras.layers.Dense(1, activation='sigmoid')\n",
    "])\n",
    "# compile the model\n",
    "model.compile(optimizer='adam',\n",
    "              loss='binary_crossentropy',\n",
    "\n",
    "              # metrics=['accuracy'],\n",
    "              weighted_metrics=['accuracy']\n",
    "              )\n",
    "# train the model\n",
    "model.fit(X_train,\n",
    "          y_train, \n",
    "          sample_weight=w_train,\n",
    "          validation_data=(X_test, y_test, w_test), \n",
    "          epochs=10)\n",
    "# test the model\n",
    "print (\"\")\n",
    "print (\"Test\")\n",
    "test_loss, test_acc = model.evaluate(X_test,  y_test, verbose=1)"
   ]
  },
  {
   "cell_type": "code",
   "execution_count": 12,
   "metadata": {},
   "outputs": [
    {
     "name": "stdout",
     "output_type": "stream",
     "text": [
      "present_players are ['Вадим', 'Ваня', 'Гриша', 'Данил', 'Ден', 'Джун', 'Сеньор', 'Юран']\n"
     ]
    }
   ],
   "source": [
    "all_results = []\n",
    "# add bots to the present players if there are less than 8 players\n",
    "while len(present_players) < 8:\n",
    "      present_players = present_players + [\"Бот\"]\n",
    "print ('present_players are', present_players)\n",
    "for i in range(0, len(present_players)):\n",
    "    for j in range(i+1, len(present_players)):\n",
    "        for k in range(j+1, len(present_players)):\n",
    "            for l in range(k+1, len(present_players)):\n",
    "                                team1 = [present_players[i], present_players[j], present_players[k], present_players[l]]\n",
    "                                # subtract team 1 player form list of present players, \"Бот\" can be used many times\n",
    "                                team2 = [x for x in present_players if x not in team1]\n",
    "                                # if team 2 has less than 4 players, add \"Бот\" to team 2\n",
    "                                while len(team2) < 4:\n",
    "                                    team2.append(\"Бот\")\n",
    "                                row = pd.DataFrame([team1 + team2], columns=columnsPlayers)\n",
    "                                 # assign 1 or 2 to each player based on the team\n",
    "                                for player in players:\n",
    "                                    row[player] = 0\n",
    "                                    if player in team1:\n",
    "                                        row[player] = 1\n",
    "                                    if player in team2:\n",
    "                                        row[player] = 2\n",
    "                                # scale the data\n",
    "                                row = scaler.transform(row[players])\n",
    "\n",
    "                                # predict the result\n",
    "                                result = model.predict(row, verbose=0)\n",
    "                                all_results.append((team1, team2, result))\n",
    "# sort the results\n",
    "all_results.sort(key=lambda x: x[2], reverse=True)"
   ]
  },
  {
   "cell_type": "code",
   "execution_count": 13,
   "metadata": {},
   "outputs": [
    {
     "name": "stdout",
     "output_type": "stream",
     "text": [
      "['Гриша', 'Данил', 'Джун', 'Сеньор'] vs ['Вадим', 'Ваня', 'Ден', 'Юран'] : 0.73295003\n",
      "['Ваня', 'Данил', 'Джун', 'Сеньор'] vs ['Вадим', 'Гриша', 'Ден', 'Юран'] : 0.72796726\n",
      "['Ваня', 'Гриша', 'Данил', 'Джун'] vs ['Вадим', 'Ден', 'Сеньор', 'Юран'] : 0.7183339\n",
      "['Вадим', 'Ваня', 'Данил', 'Сеньор'] vs ['Гриша', 'Ден', 'Джун', 'Юран'] : 0.7068356\n",
      "['Вадим', 'Гриша', 'Данил', 'Сеньор'] vs ['Ваня', 'Ден', 'Джун', 'Юран'] : 0.7059753\n",
      "['Вадим', 'Ваня', 'Гриша', 'Сеньор'] vs ['Данил', 'Ден', 'Джун', 'Юран'] : 0.7050484\n",
      "['Вадим', 'Ваня', 'Гриша', 'Данил'] vs ['Ден', 'Джун', 'Сеньор', 'Юран'] : 0.7029116\n",
      "['Ваня', 'Гриша', 'Данил', 'Сеньор'] vs ['Вадим', 'Ден', 'Джун', 'Юран'] : 0.6983682\n",
      "['Вадим', 'Данил', 'Джун', 'Сеньор'] vs ['Ваня', 'Гриша', 'Ден', 'Юран'] : 0.6935232\n",
      "['Вадим', 'Гриша', 'Данил', 'Джун'] vs ['Ваня', 'Ден', 'Сеньор', 'Юран'] : 0.68707514\n",
      "['Вадим', 'Ваня', 'Данил', 'Джун'] vs ['Гриша', 'Ден', 'Сеньор', 'Юран'] : 0.6866281\n",
      "['Вадим', 'Ваня', 'Гриша', 'Джун'] vs ['Данил', 'Ден', 'Сеньор', 'Юран'] : 0.6839234\n",
      "['Данил', 'Ден', 'Джун', 'Сеньор'] vs ['Вадим', 'Ваня', 'Гриша', 'Юран'] : 0.6838276\n",
      "['Вадим', 'Гриша', 'Ден', 'Сеньор'] vs ['Ваня', 'Данил', 'Джун', 'Юран'] : 0.6819634\n",
      "['Вадим', 'Гриша', 'Джун', 'Сеньор'] vs ['Ваня', 'Данил', 'Ден', 'Юран'] : 0.68109244\n",
      "['Данил', 'Джун', 'Сеньор', 'Юран'] vs ['Вадим', 'Ваня', 'Гриша', 'Ден'] : 0.6805847\n",
      "['Вадим', 'Данил', 'Ден', 'Сеньор'] vs ['Ваня', 'Гриша', 'Джун', 'Юран'] : 0.67796105\n",
      "['Ваня', 'Данил', 'Ден', 'Сеньор'] vs ['Вадим', 'Гриша', 'Джун', 'Юран'] : 0.6736695\n",
      "['Ваня', 'Гриша', 'Джун', 'Сеньор'] vs ['Вадим', 'Данил', 'Ден', 'Юран'] : 0.67241603\n",
      "['Ваня', 'Данил', 'Джун', 'Юран'] vs ['Вадим', 'Гриша', 'Ден', 'Сеньор'] : 0.6712176\n",
      "['Ваня', 'Данил', 'Ден', 'Джун'] vs ['Вадим', 'Гриша', 'Сеньор', 'Юран'] : 0.66901946\n",
      "['Гриша', 'Данил', 'Ден', 'Сеньор'] vs ['Вадим', 'Ваня', 'Джун', 'Юран'] : 0.66766095\n",
      "['Гриша', 'Данил', 'Ден', 'Джун'] vs ['Вадим', 'Ваня', 'Сеньор', 'Юран'] : 0.6632008\n",
      "['Вадим', 'Гриша', 'Данил', 'Ден'] vs ['Ваня', 'Джун', 'Сеньор', 'Юран'] : 0.655667\n",
      "['Гриша', 'Ден', 'Джун', 'Сеньор'] vs ['Вадим', 'Ваня', 'Данил', 'Юран'] : 0.6538519\n",
      "['Ваня', 'Гриша', 'Данил', 'Ден'] vs ['Вадим', 'Джун', 'Сеньор', 'Юран'] : 0.6533963\n",
      "['Вадим', 'Данил', 'Ден', 'Джун'] vs ['Ваня', 'Гриша', 'Сеньор', 'Юран'] : 0.65229267\n",
      "['Вадим', 'Ваня', 'Данил', 'Ден'] vs ['Гриша', 'Джун', 'Сеньор', 'Юран'] : 0.64878607\n",
      "['Вадим', 'Ваня', 'Гриша', 'Ден'] vs ['Данил', 'Джун', 'Сеньор', 'Юран'] : 0.64474046\n",
      "['Вадим', 'Ваня', 'Ден', 'Сеньор'] vs ['Гриша', 'Данил', 'Джун', 'Юран'] : 0.6432343\n",
      "['Вадим', 'Ваня', 'Джун', 'Сеньор'] vs ['Гриша', 'Данил', 'Ден', 'Юран'] : 0.6388745\n",
      "['Данил', 'Ден', 'Джун', 'Юран'] vs ['Вадим', 'Ваня', 'Гриша', 'Сеньор'] : 0.6358414\n",
      "['Гриша', 'Данил', 'Джун', 'Юран'] vs ['Вадим', 'Ваня', 'Ден', 'Сеньор'] : 0.6341148\n",
      "['Вадим', 'Гриша', 'Сеньор', 'Юран'] vs ['Ваня', 'Данил', 'Ден', 'Джун'] : 0.6338654\n",
      "['Ваня', 'Гриша', 'Ден', 'Джун'] vs ['Вадим', 'Данил', 'Сеньор', 'Юран'] : 0.632796\n",
      "['Вадим', 'Ден', 'Джун', 'Сеньор'] vs ['Ваня', 'Гриша', 'Данил', 'Юран'] : 0.6312353\n",
      "['Вадим', 'Ваня', 'Данил', 'Юран'] vs ['Гриша', 'Ден', 'Джун', 'Сеньор'] : 0.62866473\n",
      "['Вадим', 'Гриша', 'Ден', 'Джун'] vs ['Ваня', 'Данил', 'Сеньор', 'Юран'] : 0.62698376\n",
      "['Вадим', 'Данил', 'Джун', 'Юран'] vs ['Ваня', 'Гриша', 'Ден', 'Сеньор'] : 0.6264963\n",
      "['Вадим', 'Данил', 'Сеньор', 'Юран'] vs ['Ваня', 'Гриша', 'Ден', 'Джун'] : 0.6244034\n",
      "['Данил', 'Ден', 'Сеньор', 'Юран'] vs ['Вадим', 'Ваня', 'Гриша', 'Джун'] : 0.6218257\n",
      "['Вадим', 'Гриша', 'Данил', 'Юран'] vs ['Ваня', 'Ден', 'Джун', 'Сеньор'] : 0.6194332\n",
      "['Ваня', 'Данил', 'Сеньор', 'Юран'] vs ['Вадим', 'Гриша', 'Ден', 'Джун'] : 0.6117432\n",
      "['Вадим', 'Ваня', 'Ден', 'Джун'] vs ['Гриша', 'Данил', 'Сеньор', 'Юран'] : 0.6044909\n",
      "['Гриша', 'Данил', 'Сеньор', 'Юран'] vs ['Вадим', 'Ваня', 'Ден', 'Джун'] : 0.6037188\n",
      "['Ваня', 'Ден', 'Джун', 'Сеньор'] vs ['Вадим', 'Гриша', 'Данил', 'Юран'] : 0.59993464\n",
      "['Вадим', 'Гриша', 'Джун', 'Юран'] vs ['Ваня', 'Данил', 'Ден', 'Сеньор'] : 0.59899014\n",
      "['Ваня', 'Гриша', 'Данил', 'Юран'] vs ['Вадим', 'Ден', 'Джун', 'Сеньор'] : 0.59699667\n",
      "['Ваня', 'Гриша', 'Ден', 'Сеньор'] vs ['Вадим', 'Данил', 'Джун', 'Юран'] : 0.59240127\n",
      "['Вадим', 'Ваня', 'Гриша', 'Юран'] vs ['Данил', 'Ден', 'Джун', 'Сеньор'] : 0.58902764\n",
      "['Вадим', 'Данил', 'Ден', 'Юран'] vs ['Ваня', 'Гриша', 'Джун', 'Сеньор'] : 0.58489364\n",
      "['Гриша', 'Джун', 'Сеньор', 'Юран'] vs ['Вадим', 'Ваня', 'Данил', 'Ден'] : 0.58419466\n",
      "['Ваня', 'Данил', 'Ден', 'Юран'] vs ['Вадим', 'Гриша', 'Джун', 'Сеньор'] : 0.5828473\n",
      "['Вадим', 'Гриша', 'Ден', 'Юран'] vs ['Ваня', 'Данил', 'Джун', 'Сеньор'] : 0.5827989\n",
      "['Вадим', 'Джун', 'Сеньор', 'Юран'] vs ['Ваня', 'Гриша', 'Данил', 'Ден'] : 0.5793684\n",
      "['Вадим', 'Ваня', 'Джун', 'Юран'] vs ['Гриша', 'Данил', 'Ден', 'Сеньор'] : 0.5786424\n",
      "['Ваня', 'Гриша', 'Джун', 'Юран'] vs ['Вадим', 'Данил', 'Ден', 'Сеньор'] : 0.57565707\n",
      "['Гриша', 'Данил', 'Ден', 'Юран'] vs ['Вадим', 'Ваня', 'Джун', 'Сеньор'] : 0.57525736\n",
      "['Вадим', 'Ден', 'Сеньор', 'Юран'] vs ['Ваня', 'Гриша', 'Данил', 'Джун'] : 0.5740158\n",
      "['Вадим', 'Ваня', 'Сеньор', 'Юран'] vs ['Гриша', 'Данил', 'Ден', 'Джун'] : 0.5720139\n",
      "['Ваня', 'Джун', 'Сеньор', 'Юран'] vs ['Вадим', 'Гриша', 'Данил', 'Ден'] : 0.555102\n",
      "['Вадим', 'Ден', 'Джун', 'Юран'] vs ['Ваня', 'Гриша', 'Данил', 'Сеньор'] : 0.549215\n",
      "['Ден', 'Джун', 'Сеньор', 'Юран'] vs ['Вадим', 'Ваня', 'Гриша', 'Данил'] : 0.5489355\n",
      "['Вадим', 'Ваня', 'Ден', 'Юран'] vs ['Гриша', 'Данил', 'Джун', 'Сеньор'] : 0.54744565\n",
      "['Гриша', 'Ден', 'Джун', 'Юран'] vs ['Вадим', 'Ваня', 'Данил', 'Сеньор'] : 0.53561103\n",
      "['Гриша', 'Ден', 'Сеньор', 'Юран'] vs ['Вадим', 'Ваня', 'Данил', 'Джун'] : 0.5288689\n",
      "['Ваня', 'Гриша', 'Сеньор', 'Юран'] vs ['Вадим', 'Данил', 'Ден', 'Джун'] : 0.51274234\n",
      "['Ваня', 'Ден', 'Джун', 'Юран'] vs ['Вадим', 'Гриша', 'Данил', 'Сеньор'] : 0.5123342\n",
      "['Ваня', 'Гриша', 'Ден', 'Юран'] vs ['Вадим', 'Данил', 'Джун', 'Сеньор'] : 0.5049114\n",
      "['Ваня', 'Ден', 'Сеньор', 'Юран'] vs ['Вадим', 'Гриша', 'Данил', 'Джун'] : 0.48795363\n"
     ]
    }
   ],
   "source": [
    "# print the results\n",
    "for i in range(0, len(all_results)):\n",
    "    print(all_results[i][0], \"vs\", all_results[i][1], \":\", all_results[i][2][0][0])"
   ]
  },
  {
   "cell_type": "code",
   "execution_count": 14,
   "metadata": {},
   "outputs": [
    {
     "name": "stdout",
     "output_type": "stream",
     "text": [
      "best team by median:\n",
      "['Вадим', 'Ден', 'Джун', 'Сеньор'] vs ['Ваня', 'Гриша', 'Данил', 'Юран'] with output= 0.6312353\n"
     ]
    }
   ],
   "source": [
    "#  take the middle of the list\n",
    "middle = len(all_results) // 2\n",
    "print (\"best team by median:\")\n",
    "print(all_results[middle][0], \"vs\", all_results[middle][1], \"with output=\", all_results[middle][2][0][0])"
   ]
  },
  {
   "cell_type": "code",
   "execution_count": 15,
   "metadata": {},
   "outputs": [
    {
     "name": "stdout",
     "output_type": "stream",
     "text": [
      "best team by model 50% result:\n",
      "['Ваня', 'Гриша', 'Ден', 'Юран'] vs ['Вадим', 'Данил', 'Джун', 'Сеньор'] with output= 0.5049114\n"
     ]
    }
   ],
   "source": [
    "# take closest to 50% result\n",
    "closest = min(all_results, key=lambda x: abs(x[2] - 0.5))\n",
    "print (\"best team by model 50% result:\")\n",
    "print(closest[0], \"vs\", closest[1], \"with output=\", closest[2][0][0])"
   ]
  }
 ],
 "metadata": {
  "kernelspec": {
   "display_name": "tf2",
   "language": "python",
   "name": "python3"
  },
  "language_info": {
   "codemirror_mode": {
    "name": "ipython",
    "version": 3
   },
   "file_extension": ".py",
   "mimetype": "text/x-python",
   "name": "python",
   "nbconvert_exporter": "python",
   "pygments_lexer": "ipython3",
   "version": "3.10.13"
  }
 },
 "nbformat": 4,
 "nbformat_minor": 2
}
