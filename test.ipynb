{
 "cells": [
  {
   "cell_type": "code",
   "execution_count": 1,
   "metadata": {},
   "outputs": [
    {
     "name": "stderr",
     "output_type": "stream",
     "text": [
      "2024-03-21 12:06:29.138802: I tensorflow/core/util/port.cc:110] oneDNN custom operations are on. You may see slightly different numerical results due to floating-point round-off errors from different computation orders. To turn them off, set the environment variable `TF_ENABLE_ONEDNN_OPTS=0`.\n",
      "2024-03-21 12:06:29.209427: I tensorflow/core/platform/cpu_feature_guard.cc:182] This TensorFlow binary is optimized to use available CPU instructions in performance-critical operations.\n",
      "To enable the following instructions: AVX2 AVX_VNNI FMA, in other operations, rebuild TensorFlow with the appropriate compiler flags.\n",
      "2024-03-21 12:06:30.298678: W tensorflow/compiler/tf2tensorrt/utils/py_utils.cc:38] TF-TRT Warning: Could not find TensorRT\n"
     ]
    }
   ],
   "source": [
    "import numpy as np\n",
    "import pandas as pd\n",
    "import tensorflow as tf\n",
    "from tensorflow import keras\n",
    "from sklearn.model_selection import train_test_split\n",
    "from sklearn.preprocessing import StandardScaler\n",
    "import matplotlib.pyplot as plt\n",
    "import seaborn as sns\n",
    "pd.set_option('display.max_columns', 500)\n",
    "pd.set_option('display.width', 1000)"
   ]
  },
  {
   "cell_type": "code",
   "execution_count": 2,
   "metadata": {},
   "outputs": [
    {
     "name": "stdout",
     "output_type": "stream",
     "text": [
      "    Player  Games  Wins  Winrate\n",
      "0   Сеньор     21    14     0.67\n",
      "1    Гриша     22    14     0.64\n",
      "2     Миша     19    11     0.58\n",
      "3     Ваня     18    10     0.56\n",
      "4      Бот      6     3     0.50\n",
      "5     Джун      8     4     0.50\n",
      "6    Данил     16     8     0.50\n",
      "7    Вадим     24    10     0.42\n",
      "8   Ондрей     12     5     0.42\n",
      "9     Юран     10     4     0.40\n",
      "10     Ден     18     6     0.33\n",
      "11   Савва     10     3     0.30\n"
     ]
    }
   ],
   "source": [
    "all_players = ['Бот','Вадим', 'Ваня', 'Гриша', 'Данил', 'Ден', 'Джун', 'Миша', 'Ондрей', 'Савва', 'Сеньор', 'Юран']\n",
    "input_NN_line = [player+\"_team1\" for player in all_players] + [player+\"_team2\" for player in all_players]\n",
    "shown_players =all_players[1:]\n",
    "# make the list of players from table above\n",
    "old_method_dataset = pd.read_csv(\"old_method_dataset.csv\")\n",
    "print (old_method_dataset.head(15))"
   ]
  },
  {
   "cell_type": "code",
   "execution_count": 3,
   "metadata": {},
   "outputs": [],
   "source": [
    "def add_data(names_win, names_lose, campaign='Map', date = ''):\n",
    "    old_method_dataset = pd.read_csv(\"old_method_dataset.csv\")\n",
    "    if len(names_win)>len(names_lose):\n",
    "        names_lose += ['Бот']\n",
    "    elif len(names_win)<len(names_lose):\n",
    "        names_win += ['Бот']\n",
    "\n",
    "    for name in names_win:\n",
    "        old_method_dataset.loc[old_method_dataset['Player'] == name, 'Wins'] += 1\n",
    "        old_method_dataset.loc[old_method_dataset['Player'] == name, 'Games'] += 1\n",
    "    for name in names_lose:\n",
    "        old_method_dataset.loc[old_method_dataset['Player'] == name, 'Games'] += 1\n",
    "    old_method_dataset[\"Winrate\"] = old_method_dataset[\"Wins\"] / old_method_dataset[\"Games\"]\n",
    "    old_method_dataset = old_method_dataset.sort_values(by=\"Winrate\", ascending=False)\n",
    "    old_method_dataset[\"Winrate\"]=old_method_dataset[\"Winrate\"].apply(lambda x: round(x, 2))\n",
    "\n",
    "    old_method_dataset.to_csv(\"old_method_dataset.csv\", index=False)\n",
    "    print(old_method_dataset.to_markdown()) \n",
    "\n",
    "    # columns - Date,Map,Player1,Player2,Player3,Player4,Player5,Player6,Player7,Player8,TeamWon\n",
    "    # add to datasetNN a line with date, map, team1, team2, whichteamwon:\n",
    "    # e.g. 2024-03-09,Map,Ден,Гриша,Ондрей,Юран,Сеньор,Савва,Данил,Бот,1.0\n",
    "\n",
    "    while len(names_win)< 4:\n",
    "        names_win += ['Бот']\n",
    "    while len(names_lose)< 4:\n",
    "        names_lose += ['Бот']\n",
    "    team1 = ','.join(names_win)\n",
    "    team2 = ','.join(names_lose)\n",
    "    new_line = f'{date},{campaign},{team1},{team2},1\\n'\n",
    "    with open('datasetNN.csv', 'a') as file:\n",
    "        file.write(new_line)\n",
    "    print('Added to datasetNN.csv: ', new_line) \n",
    "    return True"
   ]
  },
  {
   "cell_type": "code",
   "execution_count": 4,
   "metadata": {},
   "outputs": [],
   "source": [
    "def get_teams(present_players):\n",
    "    if len(present_players)>8: \n",
    "        return \"Too many players\"\n",
    "    \n",
    "    all_teams_old_method = pd.DataFrame(columns=[\"Team1\", \"Team1 Winrate\", \"Team2\", \"Team2 Winrate\"])\n",
    "    all_teams_nn = pd.DataFrame(columns=[\"Team1\", \"Team2\",\"NN output\"])\n",
    "    input_nn =pd.DataFrame(columns=input_NN_line)\n",
    "\n",
    "    if len(present_players)%2==1:\n",
    "        present_players = present_players + [\"Бот\"]  \n",
    "\n",
    "    for i in range(0, len(present_players)):\n",
    "        for j in range(i+1, len(present_players)):\n",
    "            for k in range(j+1, len(present_players)):\n",
    "                if len(present_players)==6:\n",
    "                    team1 = [present_players[i], present_players[j], present_players[k]]\n",
    "                    team2 = [x for x in present_players if x not in team1]\n",
    "                    team1_winrate = old_method_dataset[old_method_dataset[\"Player\"].isin(team1)][\"Winrate\"].sum()\n",
    "                    team2_winrate = old_method_dataset[old_method_dataset[\"Player\"].isin(team2)][\"Winrate\"].sum()\n",
    "                    all_teams_old_method.loc[len(all_teams_old_method)] = [team1, team1_winrate, team2, team2_winrate]\n",
    "                    # create a row with the players\n",
    "                    row = np.zeros(len(input_NN_line))\n",
    "                    for player in team1:\n",
    "                        row[input_NN_line.index(player+\"_team1\")] = 1\n",
    "                    for player in team2:\n",
    "                        row[input_NN_line.index(player+\"_team2\")] = 1\n",
    "                    # add row to teams_nn\n",
    "                    input_nn.loc[len(input_nn)] = row\n",
    "                    all_teams_nn.loc[len(all_teams_nn)] = [team1, team2, 0]\n",
    "                if len(present_players)==8:\n",
    "                    for l in range(k+1, len(present_players)):\n",
    "                        team1 = [present_players[i], present_players[j], present_players[k], present_players[l]]\n",
    "                        team2 = [x for x in present_players if x not in team1]\n",
    "                        team1_winrate = old_method_dataset[old_method_dataset[\"Player\"].isin(team1)][\"Winrate\"].sum()\n",
    "                        team2_winrate = old_method_dataset[old_method_dataset[\"Player\"].isin(team2)][\"Winrate\"].sum()\n",
    "                        all_teams_old_method.loc[len(all_teams_old_method)] = [team1, team1_winrate, team2, team2_winrate]\n",
    "                        # create a row with the players\n",
    "                        row = np.zeros(len(input_NN_line))\n",
    "                        for player in team1:\n",
    "                            row[input_NN_line.index(player+\"_team1\")] = 1\n",
    "                        for player in team2:\n",
    "                            row[input_NN_line.index(player+\"_team2\")] = 1\n",
    "                        # add row to teams_nn\n",
    "                        input_nn.loc[len(input_nn)] = row\n",
    "                        all_teams_nn.loc[len(all_teams_nn)] = [team1, team2, 0]\n",
    "              \n",
    "\n",
    "    all_teams_old_method.sort_values(by=\"Team1 Winrate\", inplace=True)\n",
    "    all_teams_old_method.reset_index(drop=True, inplace=True)\n",
    "\n",
    "    # predict the output of the NN\n",
    "    model = keras.models.load_model('model.keras')\n",
    "    all_teams_nn[\"NN output\"] = model.predict(input_nn)\n",
    "    all_teams_nn.sort_values(by=\"NN output\", inplace=True)\n",
    "\n",
    "    return all_teams_old_method, all_teams_nn"
   ]
  },
  {
   "cell_type": "code",
   "execution_count": 5,
   "metadata": {},
   "outputs": [],
   "source": [
    "present_players = ['Вадим', 'Ваня', 'Гриша', 'Ден', 'Савва', 'Сеньор', 'Юран']"
   ]
  },
  {
   "cell_type": "code",
   "execution_count": 39,
   "metadata": {},
   "outputs": [
    {
     "name": "stdout",
     "output_type": "stream",
     "text": [
      "3/3 [==============================] - 0s 5ms/step\n"
     ]
    }
   ],
   "source": [
    "results_old, results_nn = get_teams (present_players)\n",
    "middle_nn = len(results_nn)//2\n",
    "middle_old = len(results_old)//2\n",
    "\n",
    "# find closest result to 0.5 in NN\n",
    "closest = results_nn.iloc[(results_nn[\"NN output\"]-0.5).abs().argsort()[:1]]\n",
    "#  find the middle entry in the nn\n",
    "median = results_nn.iloc [[middle_nn]]\n",
    "median2 = results_nn.iloc [[middle_nn+1]]\n",
    "\n",
    "# concat previous dataframes\n",
    "nn_output = pd.concat([closest, median, median2])\n",
    "# set indeces of nn_output to \"Best\",\"Median\",\"Median2\"\n",
    "nn_output.index = [\"Best\",\"Median\",\"Median2\"]\n",
    "\n",
    "\n",
    "\n",
    "# find closest result to 0.5 in old method\n",
    "closest_old = results_old.iloc[[middle_old]]\n",
    "closest2_old = results_old.iloc[[middle_old+1]]\n",
    "\n",
    "old_method_output = pd.concat([closest_old, closest2_old])\n",
    "old_method_output.index = [\"Best\",\"Second Best\"]\n",
    "\n"
   ]
  }
 ],
 "metadata": {
  "kernelspec": {
   "display_name": "tf",
   "language": "python",
   "name": "python3"
  },
  "language_info": {
   "codemirror_mode": {
    "name": "ipython",
    "version": 3
   },
   "file_extension": ".py",
   "mimetype": "text/x-python",
   "name": "python",
   "nbconvert_exporter": "python",
   "pygments_lexer": "ipython3",
   "version": "3.11.6"
  }
 },
 "nbformat": 4,
 "nbformat_minor": 2
}
